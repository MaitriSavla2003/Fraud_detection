{
 "cells": [
  {
   "cell_type": "markdown",
   "metadata": {},
   "source": [
    "#### Name: Maitri D. Savla\n",
    "#### Mail ID: maitrisavla2003@gmail.com"
   ]
  },
  {
   "cell_type": "markdown",
   "metadata": {},
   "source": [
    "# Importing all essential libraries"
   ]
  },
  {
   "cell_type": "code",
   "execution_count": 1,
   "metadata": {},
   "outputs": [],
   "source": [
    "import pandas as pd\n",
    "import numpy as np\n",
    "import seaborn as sns\n",
    "import matplotlib.pyplot as plt\n",
    "%matplotlib inline\n",
    "import warnings\n",
    "warnings.filterwarnings('ignore')"
   ]
  },
  {
   "cell_type": "markdown",
   "metadata": {},
   "source": [
    "# Reading the dataset"
   ]
  },
  {
   "cell_type": "code",
   "execution_count": 2,
   "metadata": {},
   "outputs": [],
   "source": [
    "df = pd.read_csv('Fraud.csv', index_col=False)"
   ]
  },
  {
   "cell_type": "markdown",
   "metadata": {},
   "source": [
    "# Viewing the dataset"
   ]
  },
  {
   "cell_type": "code",
   "execution_count": 16,
   "metadata": {},
   "outputs": [
    {
     "data": {
      "text/html": [
       "<div>\n",
       "<style scoped>\n",
       "    .dataframe tbody tr th:only-of-type {\n",
       "        vertical-align: middle;\n",
       "    }\n",
       "\n",
       "    .dataframe tbody tr th {\n",
       "        vertical-align: top;\n",
       "    }\n",
       "\n",
       "    .dataframe thead th {\n",
       "        text-align: right;\n",
       "    }\n",
       "</style>\n",
       "<table border=\"1\" class=\"dataframe\">\n",
       "  <thead>\n",
       "    <tr style=\"text-align: right;\">\n",
       "      <th></th>\n",
       "      <th>step</th>\n",
       "      <th>type</th>\n",
       "      <th>amount</th>\n",
       "      <th>nameOrig</th>\n",
       "      <th>oldbalanceOrg</th>\n",
       "      <th>newbalanceOrig</th>\n",
       "      <th>nameDest</th>\n",
       "      <th>oldbalanceDest</th>\n",
       "      <th>newbalanceDest</th>\n",
       "      <th>isFraud</th>\n",
       "      <th>isFlaggedFraud</th>\n",
       "    </tr>\n",
       "  </thead>\n",
       "  <tbody>\n",
       "    <tr>\n",
       "      <th>0</th>\n",
       "      <td>1</td>\n",
       "      <td>PAYMENT</td>\n",
       "      <td>9839.64</td>\n",
       "      <td>C1231006815</td>\n",
       "      <td>170136.0</td>\n",
       "      <td>160296.36</td>\n",
       "      <td>M1979787155</td>\n",
       "      <td>0.0</td>\n",
       "      <td>0.0</td>\n",
       "      <td>0</td>\n",
       "      <td>0</td>\n",
       "    </tr>\n",
       "    <tr>\n",
       "      <th>1</th>\n",
       "      <td>1</td>\n",
       "      <td>PAYMENT</td>\n",
       "      <td>1864.28</td>\n",
       "      <td>C1666544295</td>\n",
       "      <td>21249.0</td>\n",
       "      <td>19384.72</td>\n",
       "      <td>M2044282225</td>\n",
       "      <td>0.0</td>\n",
       "      <td>0.0</td>\n",
       "      <td>0</td>\n",
       "      <td>0</td>\n",
       "    </tr>\n",
       "    <tr>\n",
       "      <th>2</th>\n",
       "      <td>1</td>\n",
       "      <td>TRANSFER</td>\n",
       "      <td>181.00</td>\n",
       "      <td>C1305486145</td>\n",
       "      <td>181.0</td>\n",
       "      <td>0.00</td>\n",
       "      <td>C553264065</td>\n",
       "      <td>0.0</td>\n",
       "      <td>0.0</td>\n",
       "      <td>1</td>\n",
       "      <td>0</td>\n",
       "    </tr>\n",
       "    <tr>\n",
       "      <th>3</th>\n",
       "      <td>1</td>\n",
       "      <td>CASH_OUT</td>\n",
       "      <td>181.00</td>\n",
       "      <td>C840083671</td>\n",
       "      <td>181.0</td>\n",
       "      <td>0.00</td>\n",
       "      <td>C38997010</td>\n",
       "      <td>21182.0</td>\n",
       "      <td>0.0</td>\n",
       "      <td>1</td>\n",
       "      <td>0</td>\n",
       "    </tr>\n",
       "    <tr>\n",
       "      <th>4</th>\n",
       "      <td>1</td>\n",
       "      <td>PAYMENT</td>\n",
       "      <td>11668.14</td>\n",
       "      <td>C2048537720</td>\n",
       "      <td>41554.0</td>\n",
       "      <td>29885.86</td>\n",
       "      <td>M1230701703</td>\n",
       "      <td>0.0</td>\n",
       "      <td>0.0</td>\n",
       "      <td>0</td>\n",
       "      <td>0</td>\n",
       "    </tr>\n",
       "  </tbody>\n",
       "</table>\n",
       "</div>"
      ],
      "text/plain": [
       "   step      type    amount     nameOrig  oldbalanceOrg  newbalanceOrig  \\\n",
       "0     1   PAYMENT   9839.64  C1231006815       170136.0       160296.36   \n",
       "1     1   PAYMENT   1864.28  C1666544295        21249.0        19384.72   \n",
       "2     1  TRANSFER    181.00  C1305486145          181.0            0.00   \n",
       "3     1  CASH_OUT    181.00   C840083671          181.0            0.00   \n",
       "4     1   PAYMENT  11668.14  C2048537720        41554.0        29885.86   \n",
       "\n",
       "      nameDest  oldbalanceDest  newbalanceDest  isFraud  isFlaggedFraud  \n",
       "0  M1979787155             0.0             0.0        0               0  \n",
       "1  M2044282225             0.0             0.0        0               0  \n",
       "2   C553264065             0.0             0.0        1               0  \n",
       "3    C38997010         21182.0             0.0        1               0  \n",
       "4  M1230701703             0.0             0.0        0               0  "
      ]
     },
     "execution_count": 16,
     "metadata": {},
     "output_type": "execute_result"
    }
   ],
   "source": [
    "df.head()"
   ]
  },
  {
   "cell_type": "markdown",
   "metadata": {},
   "source": [
    "# Analysis of the dataset"
   ]
  },
  {
   "cell_type": "code",
   "execution_count": 15,
   "metadata": {},
   "outputs": [
    {
     "data": {
      "text/plain": [
       "(6362620, 11)"
      ]
     },
     "execution_count": 15,
     "metadata": {},
     "output_type": "execute_result"
    }
   ],
   "source": [
    "df.shape"
   ]
  },
  {
   "cell_type": "code",
   "execution_count": 17,
   "metadata": {},
   "outputs": [
    {
     "name": "stdout",
     "output_type": "stream",
     "text": [
      "<class 'pandas.core.frame.DataFrame'>\n",
      "RangeIndex: 6362620 entries, 0 to 6362619\n",
      "Data columns (total 11 columns):\n",
      " #   Column          Dtype  \n",
      "---  ------          -----  \n",
      " 0   step            int64  \n",
      " 1   type            object \n",
      " 2   amount          float64\n",
      " 3   nameOrig        object \n",
      " 4   oldbalanceOrg   float64\n",
      " 5   newbalanceOrig  float64\n",
      " 6   nameDest        object \n",
      " 7   oldbalanceDest  float64\n",
      " 8   newbalanceDest  float64\n",
      " 9   isFraud         int64  \n",
      " 10  isFlaggedFraud  int64  \n",
      "dtypes: float64(5), int64(3), object(3)\n",
      "memory usage: 534.0+ MB\n"
     ]
    }
   ],
   "source": [
    "df.info()"
   ]
  },
  {
   "cell_type": "markdown",
   "metadata": {},
   "source": [
    "Checking for Null Values"
   ]
  },
  {
   "cell_type": "code",
   "execution_count": 18,
   "metadata": {},
   "outputs": [
    {
     "data": {
      "text/plain": [
       "step              0\n",
       "type              0\n",
       "amount            0\n",
       "nameOrig          0\n",
       "oldbalanceOrg     0\n",
       "newbalanceOrig    0\n",
       "nameDest          0\n",
       "oldbalanceDest    0\n",
       "newbalanceDest    0\n",
       "isFraud           0\n",
       "isFlaggedFraud    0\n",
       "dtype: int64"
      ]
     },
     "execution_count": 18,
     "metadata": {},
     "output_type": "execute_result"
    }
   ],
   "source": [
    "df.isna().sum()"
   ]
  },
  {
   "cell_type": "markdown",
   "metadata": {},
   "source": [
    "Checking for Duplicated Values"
   ]
  },
  {
   "cell_type": "code",
   "execution_count": 19,
   "metadata": {},
   "outputs": [
    {
     "data": {
      "text/plain": [
       "0"
      ]
     },
     "execution_count": 19,
     "metadata": {},
     "output_type": "execute_result"
    }
   ],
   "source": [
    "df.duplicated().sum()"
   ]
  },
  {
   "cell_type": "markdown",
   "metadata": {},
   "source": [
    "Checking number of unique values of each column"
   ]
  },
  {
   "cell_type": "code",
   "execution_count": 20,
   "metadata": {},
   "outputs": [
    {
     "data": {
      "text/plain": [
       "step                  743\n",
       "type                    5\n",
       "amount            5316900\n",
       "nameOrig          6353307\n",
       "oldbalanceOrg     1845844\n",
       "newbalanceOrig    2682586\n",
       "nameDest          2722362\n",
       "oldbalanceDest    3614697\n",
       "newbalanceDest    3555499\n",
       "isFraud                 2\n",
       "isFlaggedFraud          2\n",
       "dtype: int64"
      ]
     },
     "execution_count": 20,
     "metadata": {},
     "output_type": "execute_result"
    }
   ],
   "source": [
    "\n",
    "df.nunique()"
   ]
  },
  {
   "cell_type": "code",
   "execution_count": 21,
   "metadata": {},
   "outputs": [
    {
     "data": {
      "text/html": [
       "<div>\n",
       "<style scoped>\n",
       "    .dataframe tbody tr th:only-of-type {\n",
       "        vertical-align: middle;\n",
       "    }\n",
       "\n",
       "    .dataframe tbody tr th {\n",
       "        vertical-align: top;\n",
       "    }\n",
       "\n",
       "    .dataframe thead th {\n",
       "        text-align: right;\n",
       "    }\n",
       "</style>\n",
       "<table border=\"1\" class=\"dataframe\">\n",
       "  <thead>\n",
       "    <tr style=\"text-align: right;\">\n",
       "      <th></th>\n",
       "      <th>step</th>\n",
       "      <th>amount</th>\n",
       "      <th>oldbalanceOrg</th>\n",
       "      <th>newbalanceOrig</th>\n",
       "      <th>oldbalanceDest</th>\n",
       "      <th>newbalanceDest</th>\n",
       "      <th>isFraud</th>\n",
       "      <th>isFlaggedFraud</th>\n",
       "    </tr>\n",
       "  </thead>\n",
       "  <tbody>\n",
       "    <tr>\n",
       "      <th>count</th>\n",
       "      <td>6.362620e+06</td>\n",
       "      <td>6.362620e+06</td>\n",
       "      <td>6.362620e+06</td>\n",
       "      <td>6.362620e+06</td>\n",
       "      <td>6.362620e+06</td>\n",
       "      <td>6.362620e+06</td>\n",
       "      <td>6.362620e+06</td>\n",
       "      <td>6.362620e+06</td>\n",
       "    </tr>\n",
       "    <tr>\n",
       "      <th>mean</th>\n",
       "      <td>2.433972e+02</td>\n",
       "      <td>1.798619e+05</td>\n",
       "      <td>8.338831e+05</td>\n",
       "      <td>8.551137e+05</td>\n",
       "      <td>1.100702e+06</td>\n",
       "      <td>1.224996e+06</td>\n",
       "      <td>1.290820e-03</td>\n",
       "      <td>2.514687e-06</td>\n",
       "    </tr>\n",
       "    <tr>\n",
       "      <th>std</th>\n",
       "      <td>1.423320e+02</td>\n",
       "      <td>6.038582e+05</td>\n",
       "      <td>2.888243e+06</td>\n",
       "      <td>2.924049e+06</td>\n",
       "      <td>3.399180e+06</td>\n",
       "      <td>3.674129e+06</td>\n",
       "      <td>3.590480e-02</td>\n",
       "      <td>1.585775e-03</td>\n",
       "    </tr>\n",
       "    <tr>\n",
       "      <th>min</th>\n",
       "      <td>1.000000e+00</td>\n",
       "      <td>0.000000e+00</td>\n",
       "      <td>0.000000e+00</td>\n",
       "      <td>0.000000e+00</td>\n",
       "      <td>0.000000e+00</td>\n",
       "      <td>0.000000e+00</td>\n",
       "      <td>0.000000e+00</td>\n",
       "      <td>0.000000e+00</td>\n",
       "    </tr>\n",
       "    <tr>\n",
       "      <th>25%</th>\n",
       "      <td>1.560000e+02</td>\n",
       "      <td>1.338957e+04</td>\n",
       "      <td>0.000000e+00</td>\n",
       "      <td>0.000000e+00</td>\n",
       "      <td>0.000000e+00</td>\n",
       "      <td>0.000000e+00</td>\n",
       "      <td>0.000000e+00</td>\n",
       "      <td>0.000000e+00</td>\n",
       "    </tr>\n",
       "    <tr>\n",
       "      <th>50%</th>\n",
       "      <td>2.390000e+02</td>\n",
       "      <td>7.487194e+04</td>\n",
       "      <td>1.420800e+04</td>\n",
       "      <td>0.000000e+00</td>\n",
       "      <td>1.327057e+05</td>\n",
       "      <td>2.146614e+05</td>\n",
       "      <td>0.000000e+00</td>\n",
       "      <td>0.000000e+00</td>\n",
       "    </tr>\n",
       "    <tr>\n",
       "      <th>75%</th>\n",
       "      <td>3.350000e+02</td>\n",
       "      <td>2.087215e+05</td>\n",
       "      <td>1.073152e+05</td>\n",
       "      <td>1.442584e+05</td>\n",
       "      <td>9.430367e+05</td>\n",
       "      <td>1.111909e+06</td>\n",
       "      <td>0.000000e+00</td>\n",
       "      <td>0.000000e+00</td>\n",
       "    </tr>\n",
       "    <tr>\n",
       "      <th>max</th>\n",
       "      <td>7.430000e+02</td>\n",
       "      <td>9.244552e+07</td>\n",
       "      <td>5.958504e+07</td>\n",
       "      <td>4.958504e+07</td>\n",
       "      <td>3.560159e+08</td>\n",
       "      <td>3.561793e+08</td>\n",
       "      <td>1.000000e+00</td>\n",
       "      <td>1.000000e+00</td>\n",
       "    </tr>\n",
       "  </tbody>\n",
       "</table>\n",
       "</div>"
      ],
      "text/plain": [
       "               step        amount  oldbalanceOrg  newbalanceOrig  \\\n",
       "count  6.362620e+06  6.362620e+06   6.362620e+06    6.362620e+06   \n",
       "mean   2.433972e+02  1.798619e+05   8.338831e+05    8.551137e+05   \n",
       "std    1.423320e+02  6.038582e+05   2.888243e+06    2.924049e+06   \n",
       "min    1.000000e+00  0.000000e+00   0.000000e+00    0.000000e+00   \n",
       "25%    1.560000e+02  1.338957e+04   0.000000e+00    0.000000e+00   \n",
       "50%    2.390000e+02  7.487194e+04   1.420800e+04    0.000000e+00   \n",
       "75%    3.350000e+02  2.087215e+05   1.073152e+05    1.442584e+05   \n",
       "max    7.430000e+02  9.244552e+07   5.958504e+07    4.958504e+07   \n",
       "\n",
       "       oldbalanceDest  newbalanceDest       isFraud  isFlaggedFraud  \n",
       "count    6.362620e+06    6.362620e+06  6.362620e+06    6.362620e+06  \n",
       "mean     1.100702e+06    1.224996e+06  1.290820e-03    2.514687e-06  \n",
       "std      3.399180e+06    3.674129e+06  3.590480e-02    1.585775e-03  \n",
       "min      0.000000e+00    0.000000e+00  0.000000e+00    0.000000e+00  \n",
       "25%      0.000000e+00    0.000000e+00  0.000000e+00    0.000000e+00  \n",
       "50%      1.327057e+05    2.146614e+05  0.000000e+00    0.000000e+00  \n",
       "75%      9.430367e+05    1.111909e+06  0.000000e+00    0.000000e+00  \n",
       "max      3.560159e+08    3.561793e+08  1.000000e+00    1.000000e+00  "
      ]
     },
     "execution_count": 21,
     "metadata": {},
     "output_type": "execute_result"
    }
   ],
   "source": [
    "df.describe()"
   ]
  },
  {
   "cell_type": "markdown",
   "metadata": {},
   "source": [
    "Checking the count of Instances categorized as a Fraud and Not a Fraud.\n",
    "- If 'isFraud' is 0 means no fraud has been taken place.\n",
    "- If 'isFraud' is 1 it means it is a fraud transaction."
   ]
  },
  {
   "cell_type": "code",
   "execution_count": 23,
   "metadata": {},
   "outputs": [
    {
     "data": {
      "text/plain": [
       "isFraud\n",
       "0    6354407\n",
       "1       8213\n",
       "Name: count, dtype: int64"
      ]
     },
     "execution_count": 23,
     "metadata": {},
     "output_type": "execute_result"
    }
   ],
   "source": [
    "# Count the instances of 0 and 1 in the 'isFraud' column\n",
    "isFraud_counts = df['isFraud'].value_counts()\n",
    "isFraud_counts"
   ]
  },
  {
   "cell_type": "markdown",
   "metadata": {},
   "source": [
    "Checking the count of Instances categorized as a Flagged Fraud.\n",
    "- If 'isFlaggedFraud' is 0 means the business model did not flag any illegeal attempst of transfer. The transfer amount is less than 200.000 in a single transaction.\n",
    "- If 'isFraud' is 1 it means the business model aims to control massive transfer from one account to another and Flags it as illegal attempt."
   ]
  },
  {
   "cell_type": "code",
   "execution_count": 24,
   "metadata": {},
   "outputs": [
    {
     "data": {
      "text/plain": [
       "isFlaggedFraud\n",
       "0    6362604\n",
       "1         16\n",
       "Name: count, dtype: int64"
      ]
     },
     "execution_count": 24,
     "metadata": {},
     "output_type": "execute_result"
    }
   ],
   "source": [
    "isFlaggedFraud_counts = df['isFlaggedFraud'].value_counts()\n",
    "isFlaggedFraud_counts"
   ]
  },
  {
   "cell_type": "code",
   "execution_count": 25,
   "metadata": {},
   "outputs": [
    {
     "name": "stdout",
     "output_type": "stream",
     "text": [
      "The count of instances where both isFraud and isFlaggedFraud are 1: 16\n"
     ]
    }
   ],
   "source": [
    "# Filter the DataFrame to get the instances where both 'isFraud' and 'isFlaggedFraud' are 1\n",
    "fraud_and_flagged_count = df[(df['isFraud'] == 1) & (df['isFlaggedFraud'] == 1)].shape[0]\n",
    "\n",
    "print(f\"The count of instances where both isFraud and isFlaggedFraud are 1: {fraud_and_flagged_count}\")"
   ]
  },
  {
   "cell_type": "markdown",
   "metadata": {},
   "source": [
    "CONCLUSION: By executing the above query we confirm and conclude that the instances for whom 'isFlaggedFraud' is 1 also has 'isFraud' value to be 1."
   ]
  },
  {
   "cell_type": "markdown",
   "metadata": {},
   "source": [
    "Counting the type of Payment and frequency of every type of Payment"
   ]
  },
  {
   "cell_type": "code",
   "execution_count": 26,
   "metadata": {},
   "outputs": [
    {
     "name": "stdout",
     "output_type": "stream",
     "text": [
      "Count of each type of payment:\n",
      "type\n",
      "CASH_OUT    2237500\n",
      "PAYMENT     2151495\n",
      "CASH_IN     1399284\n",
      "TRANSFER     532909\n",
      "DEBIT         41432\n",
      "Name: count, dtype: int64\n"
     ]
    }
   ],
   "source": [
    "# Count the occurrences of each type of payment\n",
    "type_counts = df['type'].value_counts()\n",
    "\n",
    "print(\"Count of each type of payment:\")\n",
    "print(type_counts)"
   ]
  },
  {
   "cell_type": "code",
   "execution_count": 27,
   "metadata": {},
   "outputs": [
    {
     "data": {
      "image/png": "[encoded data removed]",
      "text/plain": [
       "<Figure size 1000x600 with 1 Axes>"
      ]
     },
     "metadata": {},
     "output_type": "display_data"
    }
   ],
   "source": [
    "plt.figure(figsize=(10, 6))\n",
    "type_counts.plot(kind='bar', color='skyblue')\n",
    "plt.title('Count of Each Type of Payment')\n",
    "plt.xlabel('Type of Payment')\n",
    "plt.ylabel('Count')\n",
    "plt.xticks(rotation=45)\n",
    "plt.show()"
   ]
  },
  {
   "cell_type": "markdown",
   "metadata": {},
   "source": [
    "From the above graph we can conclude that 'CASH_OUT' type of payment is the highest practised type of payment whereas 'DEBIT' is the least practised type of payment. "
   ]
  },
  {
   "cell_type": "code",
   "execution_count": 28,
   "metadata": {},
   "outputs": [
    {
     "name": "stdout",
     "output_type": "stream",
     "text": [
      "Number of fraudulent transactions for each type of payment:\n",
      "type\n",
      "CASH_IN        0\n",
      "CASH_OUT    4116\n",
      "DEBIT          0\n",
      "PAYMENT        0\n",
      "TRANSFER    4097\n",
      "Name: isFraud, dtype: int64\n"
     ]
    }
   ],
   "source": [
    "# Group by 'type' and sum the 'isFraud' values\n",
    "fraud_counts_by_type = df.groupby('type')['isFraud'].sum()\n",
    "\n",
    "print(\"Number of fraudulent transactions for each type of payment:\")\n",
    "print(fraud_counts_by_type)"
   ]
  },
  {
   "cell_type": "markdown",
   "metadata": {},
   "source": [
    "- From the above query we can conclude that the fraud transaction are occuring only in 'CASH_OUT' and 'TRANSFER' payment.\n",
    "- This is a very important point. With this we can think of truncating our original dataset which has 5 types of payment to only 'CASH_OUT' and 'TRANSFER' type of payment.\n",
    "- By doing so we can even control the case of Overfitting of the data, as we have seen in previous analalysis that no fraud transactions are very higher than fraud transaction."
   ]
  },
  {
   "cell_type": "code",
   "execution_count": 30,
   "metadata": {},
   "outputs": [
    {
     "data": {
      "image/png": "[encoded data removed]",
      "text/plain": [
       "<Figure size 1000x600 with 1 Axes>"
      ]
     },
     "metadata": {},
     "output_type": "display_data"
    }
   ],
   "source": [
    "\n",
    "# Plot the number of fraudulent transactions for each type of payment\n",
    "plt.figure(figsize=(10, 6))\n",
    "fraud_counts_by_type.plot(kind='bar', color='tomato')\n",
    "plt.title('Number of Fraudulent Transactions by Payment Type')\n",
    "plt.xlabel('Type of Payment')\n",
    "plt.ylabel('Number of Fraudulent Transactions')\n",
    "plt.xticks(rotation=45)\n",
    "plt.show()"
   ]
  },
  {
   "cell_type": "code",
   "execution_count": 29,
   "metadata": {},
   "outputs": [
    {
     "name": "stdout",
     "output_type": "stream",
     "text": [
      "Number of flagged fraudulent transactions for each type of payment:\n",
      "type\n",
      "CASH_IN      0\n",
      "CASH_OUT     0\n",
      "DEBIT        0\n",
      "PAYMENT      0\n",
      "TRANSFER    16\n",
      "Name: isFlaggedFraud, dtype: int64\n"
     ]
    }
   ],
   "source": [
    "# Group by 'type' and sum the 'isFlaggedFraud' values\n",
    "flagged_fraud_counts_by_type = df.groupby('type')['isFlaggedFraud'].sum()\n",
    "\n",
    "print(\"Number of flagged fraudulent transactions for each type of payment:\")\n",
    "print(flagged_fraud_counts_by_type)"
   ]
  },
  {
   "cell_type": "markdown",
   "metadata": {},
   "source": [
    "The above query shows us one more interesting observation that all the frauds that are flagged by the business model perform only 'TRANSFER' type of payment."
   ]
  },
  {
   "cell_type": "code",
   "execution_count": 31,
   "metadata": {},
   "outputs": [
    {
     "data": {
      "image/png": "[encoded data removed]",
      "text/plain": [
       "<Figure size 1000x600 with 1 Axes>"
      ]
     },
     "metadata": {},
     "output_type": "display_data"
    }
   ],
   "source": [
    "# Plot the number of flagged fraudulent transactions for each type of payment\n",
    "plt.figure(figsize=(10, 6))\n",
    "flagged_fraud_counts_by_type.plot(kind='bar', color='orange')\n",
    "plt.title('Number of Flagged Fraudulent Transactions by Payment Type')\n",
    "plt.xlabel('Type of Payment')\n",
    "plt.ylabel('Number of Flagged Fraudulent Transactions')\n",
    "plt.xticks(rotation=45)\n",
    "plt.show()"
   ]
  },
  {
   "cell_type": "code",
   "execution_count": 33,
   "metadata": {},
   "outputs": [
    {
     "name": "stdout",
     "output_type": "stream",
     "text": [
      "Names of persons for whom isFraud = 1 and isFlaggedFraud = 1:\n",
      "16\n",
      "16\n"
     ]
    }
   ],
   "source": [
    "# Filter for rows where both isFraud and isFlaggedFraud are 1\n",
    "fraud_flagged_cases = df[(df['isFraud'] == 1) & (df['isFlaggedFraud'] == 1)]\n",
    "\n",
    "# Get the nameOrig values for these cases\n",
    "names = fraud_flagged_cases['nameOrig'].tolist()\n",
    "names_unique = fraud_flagged_cases['nameOrig'].unique().tolist()\n",
    "\n",
    "print(\"Names of persons for whom isFraud = 1 and isFlaggedFraud = 1:\")\n",
    "print(len(names))\n",
    "print(len(names_unique))"
   ]
  },
  {
   "cell_type": "markdown",
   "metadata": {},
   "source": [
    "We are running the above query just to check whether all the customer who started the transaction are unique or there are more than one transaction done by a particular user."
   ]
  },
  {
   "cell_type": "code",
   "execution_count": 34,
   "metadata": {},
   "outputs": [
    {
     "name": "stdout",
     "output_type": "stream",
     "text": [
      "Names of persons for whom isFraud = 1 and isFlaggedFraud = 1:\n",
      "8213\n",
      "8213\n"
     ]
    }
   ],
   "source": [
    "fraud_cases = df[df['isFraud'] == 1]\n",
    "# Get the nameOrig values for these cases\n",
    "names = fraud_cases['nameOrig'].tolist()\n",
    "names_unique = fraud_cases['nameOrig'].unique().tolist()\n",
    "\n",
    "print(\"Names of persons for whom isFraud = 1 and isFlaggedFraud = 1:\")\n",
    "print(len(names))\n",
    "print(len(names_unique))"
   ]
  },
  {
   "cell_type": "markdown",
   "metadata": {},
   "source": [
    "We can conclude that all 8213 frauds that have occured has targeted all unique customer."
   ]
  },
  {
   "cell_type": "code",
   "execution_count": 39,
   "metadata": {},
   "outputs": [
    {
     "name": "stdout",
     "output_type": "stream",
     "text": [
      "Unique recipients (nameDest) for whom isFraud = 1:\n",
      "16\n"
     ]
    }
   ],
   "source": [
    "# Filter for rows where isFraud is 1\n",
    "fraud_cases = df[(df['isFraud'] == 1) & (df['isFlaggedFraud'])]\n",
    "\n",
    "# Get unique recipients (nameDest) for whom isFraud = 1\n",
    "unique_recipients_fraudulent = fraud_cases['nameDest'].unique()\n",
    "\n",
    "print(\"Unique recipients (nameDest) for whom isFraud = 1:\")\n",
    "print(len(unique_recipients_fraudulent))"
   ]
  },
  {
   "cell_type": "code",
   "execution_count": 40,
   "metadata": {},
   "outputs": [
    {
     "name": "stdout",
     "output_type": "stream",
     "text": [
      "Unique recipients (nameDest) for whom isFraud = 1:\n",
      "8169\n"
     ]
    }
   ],
   "source": [
    "# Filter for rows where isFraud is 1\n",
    "fraud_cases = df[(df['isFraud'] == 1)]\n",
    "\n",
    "# Get unique recipients (nameDest) for whom isFraud = 1\n",
    "unique_recipients_fraudulent = fraud_cases['nameDest'].unique()\n",
    "\n",
    "print(\"Unique recipients (nameDest) for whom isFraud = 1:\")\n",
    "print(len(unique_recipients_fraudulent))"
   ]
  },
  {
   "cell_type": "markdown",
   "metadata": {},
   "source": [
    "We could observe that even though we had all unique customer who initiated the transaction but all recipients are not unique. "
   ]
  },
  {
   "cell_type": "code",
   "execution_count": 42,
   "metadata": {},
   "outputs": [
    {
     "name": "stdout",
     "output_type": "stream",
     "text": [
      "Total number of non-unique names  44\n",
      "Non-Unique Recipient Names and Their Frequencies:\n",
      "----------------------------------------------\n",
      "Recipient Name (nameDest)    |   Frequency\n",
      "----------------------------------------------\n",
      "C1193568854                    |   2\n",
      "C104038589                     |   2\n",
      "C200064275                     |   2\n",
      "C1497532505                    |   2\n",
      "C1601170327                    |   2\n",
      "C1655359478                    |   2\n",
      "C2020337583                    |   2\n",
      "C1653587362                    |   2\n",
      "C1013511446                    |   2\n",
      "C2129197098                    |   2\n",
      "C1366192319                    |   2\n",
      "C1185292292                    |   2\n",
      "C668046170                     |   2\n",
      "C1837027614                    |   2\n",
      "C1148781766                    |   2\n",
      "C904300960                     |   2\n",
      "C1325541393                    |   2\n",
      "C14138104                      |   2\n",
      "C1827219533                    |   2\n",
      "C1669818195                    |   2\n",
      "C644163395                     |   2\n",
      "C935310781                     |   2\n",
      "C505532836                     |   2\n",
      "C1399829166                    |   2\n",
      "C52390890                      |   2\n",
      "C1980653895                    |   2\n",
      "C1460854172                    |   2\n",
      "C964377943                     |   2\n",
      "C686334805                     |   2\n",
      "C1656842502                    |   2\n",
      "C967226405                     |   2\n",
      "C1780714769                    |   2\n",
      "C385133759                     |   2\n",
      "C1650668671                    |   2\n",
      "C185805228                     |   2\n",
      "C475338087                     |   2\n",
      "C1981613973                    |   2\n",
      "C803116137                     |   2\n",
      "C643624257                     |   2\n",
      "C1259079602                    |   2\n",
      "C410033330                     |   2\n",
      "C105660024                     |   2\n",
      "C1827800010                    |   2\n",
      "C650699445                     |   2\n"
     ]
    }
   ],
   "source": [
    "# Count occurrences of each recipient name (nameDest)\n",
    "recipient_counts = fraud_cases['nameDest'].value_counts()\n",
    "\n",
    "# Filter to find names that are non-unique and their occurrence count\n",
    "non_unique_names = recipient_counts[recipient_counts > 1]\n",
    "print(\"Total number of non-unique names \",len(non_unique_names))\n",
    "# Print in a table format\n",
    "print(\"Non-Unique Recipient Names and Their Frequencies:\")\n",
    "print(\"----------------------------------------------\")\n",
    "print(\"Recipient Name (nameDest)    |   Frequency\")\n",
    "print(\"----------------------------------------------\")\n",
    "for name, count in non_unique_names.items():\n",
    "    print(f\"{name:<30} |   {count}\")"
   ]
  },
  {
   "cell_type": "markdown",
   "metadata": {},
   "source": [
    "We can observe that there are total 44 recipients that participated exactly 2 times in the transfer."
   ]
  },
  {
   "cell_type": "code",
   "execution_count": 47,
   "metadata": {},
   "outputs": [
    {
     "name": "stdout",
     "output_type": "stream",
     "text": [
      "\n",
      "Minimum step size for non-unique recipients where isFraud = 1: 4\n",
      "Maximum step size for non-unique recipients where isFraud = 1: 736\n"
     ]
    }
   ],
   "source": [
    "# Now, find the minimum and maximum step sizes for these non-unique recipients\n",
    "non_unique_recipients = non_unique_names.index\n",
    "df_non_unique_recipients = fraud_cases[fraud_cases['nameDest'].isin(non_unique_recipients)]\n",
    "min_step_non_unique = df_non_unique_recipients['step'].min()\n",
    "max_step_non_unique = df_non_unique_recipients['step'].max()\n",
    "\n",
    "print(\"\\nMinimum step size for non-unique recipients where isFraud = 1:\", min_step_non_unique)\n",
    "print(\"Maximum step size for non-unique recipients where isFraud = 1:\", max_step_non_unique)"
   ]
  },
  {
   "cell_type": "code",
   "execution_count": 45,
   "metadata": {},
   "outputs": [
    {
     "name": "stdout",
     "output_type": "stream",
     "text": [
      "Instances where recipient 'C1193568854' participated in fraud payments:\n",
      "         step      type     amount     nameOrig  oldbalanceOrg  \\\n",
      "6055674   497  CASH_OUT  224570.45  C1401604030      224570.45   \n",
      "6362537   736  CASH_OUT  172915.56   C962323728      172915.56   \n",
      "\n",
      "         newbalanceOrig     nameDest  oldbalanceDest  newbalanceDest  isFraud  \\\n",
      "6055674             0.0  C1193568854      7449938.25      7674508.70        1   \n",
      "6362537             0.0  C1193568854      7674508.70      7847424.27        1   \n",
      "\n",
      "         isFlaggedFraud  \n",
      "6055674               0  \n",
      "6362537               0  \n"
     ]
    }
   ],
   "source": [
    "\n",
    "# Checking for rows where isFraud is 1 and recipient is 'C1193568854'\n",
    "fraudulent_payments = df[(df['isFraud'] == 1) & (df['nameDest'] == 'C1193568854')]\n",
    "\n",
    "# Print the instances\n",
    "print(\"Instances where recipient 'C1193568854' participated in fraud payments:\")\n",
    "print(fraudulent_payments)"
   ]
  },
  {
   "cell_type": "code",
   "execution_count": 69,
   "metadata": {},
   "outputs": [
    {
     "name": "stdout",
     "output_type": "stream",
     "text": [
      "Instances where recipient 'C104038589' participated in fraud payments:\n",
      "             type      amount     nameOrig  oldbalanceOrg  newbalanceOrig  \\\n",
      "788647   TRANSFER   152042.16  C1118399210      152042.16             0.0   \n",
      "1030368  CASH_OUT  2050727.81   C992917413     2050727.81             0.0   \n",
      "\n",
      "           nameDest  oldbalanceDest  newbalanceDest  isFraud  isFlaggedFraud  \n",
      "788647   C104038589             0.0            0.00        1               0  \n",
      "1030368  C104038589             0.0      2050727.81        1               0  \n"
     ]
    }
   ],
   "source": [
    "\n",
    "\n",
    "\n",
    "# Checking for rows where isFraud is 1 and recipient is 'C1193568854'\n",
    "fraudulent_payments = df[(df['isFraud'] == 1) & (df['nameDest'] == 'C104038589')]\n",
    "\n",
    "# Print the instances\n",
    "print(\"Instances where recipient 'C104038589' participated in fraud payments:\")\n",
    "print(fraudulent_payments)"
   ]
  },
  {
   "cell_type": "code",
   "execution_count": 70,
   "metadata": {},
   "outputs": [
    {
     "name": "stdout",
     "output_type": "stream",
     "text": [
      "Instances where recipient 'C644163395' participated in fraud payments:\n",
      "             type     amount     nameOrig  oldbalanceOrg  newbalanceOrig  \\\n",
      "1030568  CASH_OUT  684796.16  C1555882195      684796.16             0.0   \n",
      "1059579  CASH_OUT  511379.90  C1440012977      511379.90             0.0   \n",
      "\n",
      "           nameDest  oldbalanceDest  newbalanceDest  isFraud  isFlaggedFraud  \n",
      "1030568  C644163395      2754453.54       3439249.7        1               0  \n",
      "1059579  C644163395      3439249.70       3950629.6        1               0  \n"
     ]
    }
   ],
   "source": [
    "\n",
    "\n",
    "\n",
    "# Checking for rows where isFraud is 1 and recipient is 'C644163395'\n",
    "fraudulent_payments = df[(df['isFraud'] == 1) & (df['nameDest'] == 'C644163395')]\n",
    "\n",
    "# Print the instances\n",
    "print(\"Instances where recipient 'C644163395' participated in fraud payments:\")\n",
    "print(fraudulent_payments)"
   ]
  },
  {
   "cell_type": "code",
   "execution_count": 49,
   "metadata": {},
   "outputs": [
    {
     "name": "stdout",
     "output_type": "stream",
     "text": [
      "All instances of the 44 non-unique recipients where isFraud = 1:\n",
      "         step      type      amount     nameOrig  oldbalanceOrg  \\\n",
      "4693        4  TRANSFER    13707.11    C17222024       13707.11   \n",
      "4858        5  CASH_OUT   120074.73  C1174000532      120074.73   \n",
      "5124        5  CASH_OUT    60726.57   C840095827       60726.57   \n",
      "5994        6  TRANSFER    30521.02   C903383636       30521.02   \n",
      "49826       9  CASH_OUT  2539898.07   C728718059     2539898.07   \n",
      "...       ...       ...         ...          ...            ...   \n",
      "6312188   686  CASH_OUT   160088.68   C590262415      160088.68   \n",
      "6362339   720  CASH_OUT    79039.81   C838045354       79039.81   \n",
      "6362379   724  CASH_OUT    89845.29  C1281420811       89845.29   \n",
      "6362449   730  CASH_OUT      403.56  C1790729382         403.56   \n",
      "6362537   736  CASH_OUT   172915.56   C962323728      172915.56   \n",
      "\n",
      "         newbalanceOrig     nameDest  oldbalanceDest  newbalanceDest  isFraud  \\\n",
      "4693                0.0   C410033330            0.00            0.00        1   \n",
      "4858                0.0   C410033330            0.00       120074.73        1   \n",
      "5124                0.0   C803116137     13010502.78     13071229.35        1   \n",
      "5994                0.0   C904300960            0.00            0.00        1   \n",
      "49826               0.0  C1013511446          968.00      1842864.22        1   \n",
      "...                 ...          ...             ...             ...      ...   \n",
      "6312188             0.0   C668046170       301078.64       461167.32        1   \n",
      "6362339             0.0  C1980653895     11270532.70     11349572.51        1   \n",
      "6362379             0.0  C1827800010            0.00        89845.29        1   \n",
      "6362449             0.0  C1460854172      1124708.32      1125111.88        1   \n",
      "6362537             0.0  C1193568854      7674508.70      7847424.27        1   \n",
      "\n",
      "         isFlaggedFraud  \n",
      "4693                  0  \n",
      "4858                  0  \n",
      "5124                  0  \n",
      "5994                  0  \n",
      "49826                 0  \n",
      "...                 ...  \n",
      "6312188               0  \n",
      "6362339               0  \n",
      "6362379               0  \n",
      "6362449               0  \n",
      "6362537               0  \n",
      "\n",
      "[88 rows x 11 columns]\n"
     ]
    }
   ],
   "source": [
    "\n",
    "# Filter the DataFrame for these non-unique recipients\n",
    "df_non_unique_recipients = fraud_cases[fraud_cases['nameDest'].isin(non_unique_recipients)]\n",
    "\n",
    "# Display all instances of the non-unique recipients\n",
    "print(\"All instances of the 44 non-unique recipients where isFraud = 1:\")\n",
    "print(df_non_unique_recipients)"
   ]
  },
  {
   "cell_type": "code",
   "execution_count": 53,
   "metadata": {},
   "outputs": [
    {
     "data": {
      "image/png": "[encoded data removed]",
      "text/plain": [
       "<Figure size 1500x700 with 1 Axes>"
      ]
     },
     "metadata": {},
     "output_type": "display_data"
    }
   ],
   "source": [
    "# Create the plot using seaborn\n",
    "plt.figure(figsize=(15, 7))\n",
    "\n",
    "# Left plot - Distribution of transaction amounts with kde\n",
    "plt.subplot(111)\n",
    "sns.histplot(data=df_non_unique_recipients, x='step', bins=30, kde=True, color='g')\n",
    "plt.title('Distribution of Step Sizes for Non-Unique Recipients')\n",
    "plt.xlabel('Step')\n",
    "plt.ylabel('Count')\n",
    "\n",
    "plt.show()"
   ]
  },
  {
   "cell_type": "code",
   "execution_count": 54,
   "metadata": {},
   "outputs": [
    {
     "data": {
      "image/png": "[encoded data removed]",
      "text/plain": [
       "<Figure size 1500x700 with 1 Axes>"
      ]
     },
     "metadata": {},
     "output_type": "display_data"
    }
   ],
   "source": [
    "# Filter for rows where isFraud is 1\n",
    "fraud_cases = df[df['isFraud'] == 1]\n",
    "\n",
    "# Create the plot using seaborn\n",
    "plt.figure(figsize=(15, 7))\n",
    "\n",
    "# Distribution of step sizes with kde\n",
    "sns.histplot(data=fraud_cases, x='step', bins=30, kde=True, color='g')\n",
    "plt.title('Distribution of Step Sizes for Instances where isFraud = 1')\n",
    "plt.xlabel('Step')\n",
    "plt.ylabel('Count')\n",
    "\n",
    "plt.show()"
   ]
  },
  {
   "cell_type": "code",
   "execution_count": 55,
   "metadata": {},
   "outputs": [
    {
     "data": {
      "image/png": "[encoded data removed]",
      "text/plain": [
       "<Figure size 1500x700 with 1 Axes>"
      ]
     },
     "metadata": {},
     "output_type": "display_data"
    }
   ],
   "source": [
    "# Filter for rows where isFraud is 1\n",
    "flagged_fraud_cases = df[df['isFlaggedFraud'] == 1]\n",
    "\n",
    "# Create the plot using seaborn\n",
    "plt.figure(figsize=(15, 7))\n",
    "\n",
    "# Distribution of step sizes with kde\n",
    "sns.histplot(data=flagged_fraud_cases, x='step', bins=30, kde=True, color='g')\n",
    "plt.title('Distribution of Step Sizes for Instances where isFraud = 1')\n",
    "plt.xlabel('Step')\n",
    "plt.ylabel('Count')\n",
    "\n",
    "plt.show()"
   ]
  },
  {
   "cell_type": "markdown",
   "metadata": {},
   "source": [
    "- From the above graph we can observe that fraud transactions are independent or we can say uniformly distributed accross steps. But the frequency of flagged fraud occuring is highest after 700 steps. \n",
    "- But to detect whether the transaction is fraud or not, we can exclude the feature 'step' from the dataframe. "
   ]
  },
  {
   "cell_type": "markdown",
   "metadata": {},
   "source": [
    "### Modification in the Dataframe\n",
    "- From all the type of payment, we will restrict it to 'TRANSFER' and 'CASH_OUT' type of payment method.\n",
    "- We will remove the feature 'step' from the dataframe "
   ]
  },
  {
   "cell_type": "code",
   "execution_count": 3,
   "metadata": {},
   "outputs": [],
   "source": [
    "# Filter for transactions where type is 'CASH_OUT' or 'TRANSFER'\n",
    "df = df[(df['type'] == 'CASH_OUT') | (df['type'] == 'TRANSFER')]\n",
    "\n",
    "# Remove the 'step' column from the DataFrame\n",
    "df.drop(columns=['step'], inplace=True)\n"
   ]
  },
  {
   "cell_type": "code",
   "execution_count": 57,
   "metadata": {},
   "outputs": [
    {
     "data": {
      "text/html": [
       "<div>\n",
       "<style scoped>\n",
       "    .dataframe tbody tr th:only-of-type {\n",
       "        vertical-align: middle;\n",
       "    }\n",
       "\n",
       "    .dataframe tbody tr th {\n",
       "        vertical-align: top;\n",
       "    }\n",
       "\n",
       "    .dataframe thead th {\n",
       "        text-align: right;\n",
       "    }\n",
       "</style>\n",
       "<table border=\"1\" class=\"dataframe\">\n",
       "  <thead>\n",
       "    <tr style=\"text-align: right;\">\n",
       "      <th></th>\n",
       "      <th>type</th>\n",
       "      <th>amount</th>\n",
       "      <th>nameOrig</th>\n",
       "      <th>oldbalanceOrg</th>\n",
       "      <th>newbalanceOrig</th>\n",
       "      <th>nameDest</th>\n",
       "      <th>oldbalanceDest</th>\n",
       "      <th>newbalanceDest</th>\n",
       "      <th>isFraud</th>\n",
       "      <th>isFlaggedFraud</th>\n",
       "    </tr>\n",
       "  </thead>\n",
       "  <tbody>\n",
       "    <tr>\n",
       "      <th>2</th>\n",
       "      <td>TRANSFER</td>\n",
       "      <td>181.00</td>\n",
       "      <td>C1305486145</td>\n",
       "      <td>181.0</td>\n",
       "      <td>0.0</td>\n",
       "      <td>C553264065</td>\n",
       "      <td>0.0</td>\n",
       "      <td>0.00</td>\n",
       "      <td>1</td>\n",
       "      <td>0</td>\n",
       "    </tr>\n",
       "    <tr>\n",
       "      <th>3</th>\n",
       "      <td>CASH_OUT</td>\n",
       "      <td>181.00</td>\n",
       "      <td>C840083671</td>\n",
       "      <td>181.0</td>\n",
       "      <td>0.0</td>\n",
       "      <td>C38997010</td>\n",
       "      <td>21182.0</td>\n",
       "      <td>0.00</td>\n",
       "      <td>1</td>\n",
       "      <td>0</td>\n",
       "    </tr>\n",
       "    <tr>\n",
       "      <th>15</th>\n",
       "      <td>CASH_OUT</td>\n",
       "      <td>229133.94</td>\n",
       "      <td>C905080434</td>\n",
       "      <td>15325.0</td>\n",
       "      <td>0.0</td>\n",
       "      <td>C476402209</td>\n",
       "      <td>5083.0</td>\n",
       "      <td>51513.44</td>\n",
       "      <td>0</td>\n",
       "      <td>0</td>\n",
       "    </tr>\n",
       "    <tr>\n",
       "      <th>19</th>\n",
       "      <td>TRANSFER</td>\n",
       "      <td>215310.30</td>\n",
       "      <td>C1670993182</td>\n",
       "      <td>705.0</td>\n",
       "      <td>0.0</td>\n",
       "      <td>C1100439041</td>\n",
       "      <td>22425.0</td>\n",
       "      <td>0.00</td>\n",
       "      <td>0</td>\n",
       "      <td>0</td>\n",
       "    </tr>\n",
       "    <tr>\n",
       "      <th>24</th>\n",
       "      <td>TRANSFER</td>\n",
       "      <td>311685.89</td>\n",
       "      <td>C1984094095</td>\n",
       "      <td>10835.0</td>\n",
       "      <td>0.0</td>\n",
       "      <td>C932583850</td>\n",
       "      <td>6267.0</td>\n",
       "      <td>2719172.89</td>\n",
       "      <td>0</td>\n",
       "      <td>0</td>\n",
       "    </tr>\n",
       "  </tbody>\n",
       "</table>\n",
       "</div>"
      ],
      "text/plain": [
       "        type     amount     nameOrig  oldbalanceOrg  newbalanceOrig  \\\n",
       "2   TRANSFER     181.00  C1305486145          181.0             0.0   \n",
       "3   CASH_OUT     181.00   C840083671          181.0             0.0   \n",
       "15  CASH_OUT  229133.94   C905080434        15325.0             0.0   \n",
       "19  TRANSFER  215310.30  C1670993182          705.0             0.0   \n",
       "24  TRANSFER  311685.89  C1984094095        10835.0             0.0   \n",
       "\n",
       "       nameDest  oldbalanceDest  newbalanceDest  isFraud  isFlaggedFraud  \n",
       "2    C553264065             0.0            0.00        1               0  \n",
       "3     C38997010         21182.0            0.00        1               0  \n",
       "15   C476402209          5083.0        51513.44        0               0  \n",
       "19  C1100439041         22425.0            0.00        0               0  \n",
       "24   C932583850          6267.0      2719172.89        0               0  "
      ]
     },
     "execution_count": 57,
     "metadata": {},
     "output_type": "execute_result"
    }
   ],
   "source": [
    "df.head()"
   ]
  },
  {
   "cell_type": "code",
   "execution_count": 58,
   "metadata": {},
   "outputs": [
    {
     "data": {
      "text/plain": [
       "(2770409, 10)"
      ]
     },
     "execution_count": 58,
     "metadata": {},
     "output_type": "execute_result"
    }
   ],
   "source": [
    "df.shape"
   ]
  },
  {
   "cell_type": "markdown",
   "metadata": {},
   "source": [
    "- With all the above analysis and observation, we have reduced the size of the dataframe from (6362620, 11) to (2770409, 10).\n",
    "- The advantage of doing this is that we can control the problem of overfitting."
   ]
  },
  {
   "cell_type": "code",
   "execution_count": 59,
   "metadata": {},
   "outputs": [
    {
     "data": {
      "text/plain": [
       "isFraud\n",
       "0    2762196\n",
       "1       8213\n",
       "Name: count, dtype: int64"
      ]
     },
     "execution_count": 59,
     "metadata": {},
     "output_type": "execute_result"
    }
   ],
   "source": [
    "# Count the instances of 0 and 1 in the 'isFraud' column\n",
    "isFraud_counts = df['isFraud'].value_counts()\n",
    "isFraud_counts"
   ]
  },
  {
   "cell_type": "code",
   "execution_count": 60,
   "metadata": {},
   "outputs": [
    {
     "data": {
      "text/plain": [
       "type                    2\n",
       "amount            2685805\n",
       "nameOrig          2768630\n",
       "oldbalanceOrg      435702\n",
       "newbalanceOrig     271977\n",
       "nameDest           509565\n",
       "oldbalanceDest    2360852\n",
       "newbalanceDest    2562844\n",
       "isFraud                 2\n",
       "isFlaggedFraud          2\n",
       "dtype: int64"
      ]
     },
     "execution_count": 60,
     "metadata": {},
     "output_type": "execute_result"
    }
   ],
   "source": [
    "df.nunique()"
   ]
  },
  {
   "cell_type": "code",
   "execution_count": 61,
   "metadata": {},
   "outputs": [
    {
     "name": "stdout",
     "output_type": "stream",
     "text": [
      "Number of customers involved in both isFraud=1 and isFraud=0: 16\n"
     ]
    }
   ],
   "source": [
    "# Group by customer (nameOrig) and count occurrences of isFraud=1 and isFraud=0\n",
    "fraudulent_customers = df[df['isFraud'] == 1]['nameOrig'].unique()\n",
    "non_fraudulent_customers = df[df['isFraud'] == 0]['nameOrig'].unique()\n",
    "\n",
    "# Find the intersection of customers involved in both isFraud=1 and isFraud=0\n",
    "common_customers = set(fraudulent_customers).intersection(non_fraudulent_customers)\n",
    "\n",
    "# Number of customers involved in both isFraud=1 and isFraud=0\n",
    "num_common_customers = len(common_customers)\n",
    "\n",
    "print(f\"Number of customers involved in both isFraud=1 and isFraud=0: {num_common_customers}\")"
   ]
  },
  {
   "cell_type": "code",
   "execution_count": 63,
   "metadata": {},
   "outputs": [
    {
     "name": "stdout",
     "output_type": "stream",
     "text": [
      "Number of common customers with isFlaggedFraud=1: 0\n"
     ]
    }
   ],
   "source": [
    "# Filter the original DataFrame for these common customers\n",
    "common_customers_df = df[df['nameOrig'].isin(common_customers)]\n",
    "\n",
    "# Count how many of these common customers have isFlaggedFraud=1\n",
    "common_customers_with_flagged_fraud = common_customers_df[common_customers_df['isFlaggedFraud'] == 1]['nameOrig'].nunique()\n",
    "\n",
    "print(f\"Number of common customers with isFlaggedFraud=1: {common_customers_with_flagged_fraud}\")"
   ]
  },
  {
   "cell_type": "code",
   "execution_count": 65,
   "metadata": {},
   "outputs": [
    {
     "name": "stdout",
     "output_type": "stream",
     "text": [
      "No nameOrig values found with more than one occurrence of isFraud=1.\n"
     ]
    }
   ],
   "source": [
    "# Group by 'nameOrig' and count occurrences of isFraud=1 for each nameOrig\n",
    "fraud_count_per_nameOrig = df[df['isFraud'] == 1].groupby('nameOrig').size()\n",
    "\n",
    "# Filter for nameOrig values with more than one occurrence of isFraud=1\n",
    "nameOrig_with_multiple_frauds = fraud_count_per_nameOrig[fraud_count_per_nameOrig > 1].index\n",
    "\n",
    "# Print the results\n",
    "if not nameOrig_with_multiple_frauds.empty:\n",
    "    print(\"nameOrig values with more than one occurrence of isFraud=1:\")\n",
    "    print(nameOrig_with_multiple_frauds)\n",
    "else:\n",
    "    print(\"No nameOrig values found with more than one occurrence of isFraud=1.\")"
   ]
  },
  {
   "cell_type": "code",
   "execution_count": 68,
   "metadata": {},
   "outputs": [
    {
     "name": "stdout",
     "output_type": "stream",
     "text": [
      "nameDest values with more than one occurrence of isFraud=1:\n",
      "Index(['C1013511446', 'C104038589', 'C105660024', 'C1148781766', 'C1185292292',\n",
      "       'C1193568854', 'C1259079602', 'C1325541393', 'C1366192319',\n",
      "       'C1399829166', 'C14138104', 'C1460854172', 'C1497532505', 'C1601170327',\n",
      "       'C1650668671', 'C1653587362', 'C1655359478', 'C1656842502',\n",
      "       'C1669818195', 'C1780714769', 'C1827219533', 'C1827800010',\n",
      "       'C1837027614', 'C185805228', 'C1980653895', 'C1981613973', 'C200064275',\n",
      "       'C2020337583', 'C2129197098', 'C385133759', 'C410033330', 'C475338087',\n",
      "       'C505532836', 'C52390890', 'C643624257', 'C644163395', 'C650699445',\n",
      "       'C668046170', 'C686334805', 'C803116137', 'C904300960', 'C935310781',\n",
      "       'C964377943', 'C967226405'],\n",
      "      dtype='object', name='nameDest')\n",
      "44\n"
     ]
    }
   ],
   "source": [
    "# Group by 'nameDest' and count occurrences of isFraud=1 for each nameDest\n",
    "fraud_count_per_nameDest = df[df['isFraud'] == 1].groupby('nameDest').size()\n",
    "\n",
    "# Filter for nameDest values with more than one occurrence of isFraud=1\n",
    "nameDest_with_multiple_frauds = fraud_count_per_nameDest[fraud_count_per_nameDest > 1].index\n",
    "\n",
    "# Print the results\n",
    "if not nameDest_with_multiple_frauds.empty:\n",
    "    print(\"nameDest values with more than one occurrence of isFraud=1:\")\n",
    "    print(nameDest_with_multiple_frauds)\n",
    "    print(len(nameDest_with_multiple_frauds))\n",
    "else:\n",
    "    print(\"No nameDest values found with more than one occurrence of isFraud=1.\")"
   ]
  },
  {
   "cell_type": "code",
   "execution_count": 64,
   "metadata": {},
   "outputs": [
    {
     "name": "stdout",
     "output_type": "stream",
     "text": [
      "No pairs with more than one transaction found.\n"
     ]
    }
   ],
   "source": [
    "# Group by 'nameOrig' and 'nameDest', count occurrences of each pair\n",
    "transactions_per_pair = df.groupby(['nameOrig', 'nameDest']).size().reset_index(name='transaction_count')\n",
    "\n",
    "# Filter pairs where transaction_count is greater than 1\n",
    "multiple_transactions_pairs = transactions_per_pair[transactions_per_pair['transaction_count'] > 1]\n",
    "\n",
    "# Display the pairs with more than one transaction\n",
    "if not multiple_transactions_pairs.empty:\n",
    "    print(\"Pairs with more than one transaction:\")\n",
    "    print(multiple_transactions_pairs)\n",
    "else:\n",
    "    print(\"No pairs with more than one transaction found.\")"
   ]
  },
  {
   "cell_type": "markdown",
   "metadata": {},
   "source": [
    "- The above code ensures that even though any 'nameOrig' or 'nameDest' are present more than one time in a dataset, but there is no multiple transaction occuring between the pairs.\n",
    "- The pairwise transaction are unique in nature."
   ]
  },
  {
   "cell_type": "code",
   "execution_count": 71,
   "metadata": {},
   "outputs": [
    {
     "name": "stdout",
     "output_type": "stream",
     "text": [
      "Number of instances where isFraud = 1 and newBalanceOrig = 0: 8053\n"
     ]
    }
   ],
   "source": [
    "# Filter for instances where isFraud = 1 and newBalanceOrig = 0\n",
    "instances_isFraud1_newBalance0 = df[(df['isFraud'] == 1) & (df['newbalanceOrig'] == 0)]\n",
    "\n",
    "# Count the number of instances\n",
    "num_instances = len(instances_isFraud1_newBalance0)\n",
    "\n",
    "print(f\"Number of instances where isFraud = 1 and newBalanceOrig = 0: {num_instances}\")"
   ]
  },
  {
   "cell_type": "markdown",
   "metadata": {},
   "source": [
    "We can observe that out of 8213 fraud instances, we have 8053 instances whose \"newBalanceOrig = 0\".\n",
    "This is one of the impactful observation to identify fraud transaction"
   ]
  },
  {
   "cell_type": "code",
   "execution_count": 72,
   "metadata": {},
   "outputs": [
    {
     "data": {
      "image/png": "[encoded data removed]",
      "text/plain": [
       "<Figure size 1500x700 with 1 Axes>"
      ]
     },
     "metadata": {},
     "output_type": "display_data"
    }
   ],
   "source": [
    "# Filter for instances where isFraud = 1 and newbalanceOrig is not 0\n",
    "fraud_transactions_nonzero_newbalance = df[(df['isFraud'] == 1) & (df['newbalanceOrig'] != 0)]\n",
    "\n",
    "# Plot the distribution of transaction amounts (as an example)\n",
    "plt.figure(figsize=(15, 7))\n",
    "\n",
    "# Distribution of transaction amounts for fraudulent transactions with non-zero newbalanceOrig\n",
    "sns.histplot(data=fraud_transactions_nonzero_newbalance, x='amount', bins=30, kde=True, color='r')\n",
    "plt.title('Distribution of Transaction Amounts for Fraudulent Transactions with Non-Zero newbalanceOrig')\n",
    "plt.xlabel('Transaction Amount')\n",
    "plt.ylabel('Count')\n",
    "\n",
    "plt.show()"
   ]
  },
  {
   "cell_type": "code",
   "execution_count": 74,
   "metadata": {},
   "outputs": [
    {
     "name": "stdout",
     "output_type": "stream",
     "text": [
      "The instance with the maximum value of newbalanceOrig for instances where isFraud = 1:\n",
      "             type      amount   nameOrig  oldbalanceOrg  newbalanceOrig  \\\n",
      "5996399  TRANSFER  10000000.0  C40489106    59585040.37     49585040.37   \n",
      "\n",
      "           nameDest  oldbalanceDest  newbalanceDest  isFraud  isFlaggedFraud  \n",
      "5996399  C650095152             0.0             0.0        1               0  \n"
     ]
    }
   ],
   "source": [
    "# Filter for instances where isFraud = 1\n",
    "fraud_transactions = df[df['isFraud'] == 1]\n",
    "\n",
    "# Find the maximum value of newbalanceOrig in fraud transactions\n",
    "max_newbalanceOrig = fraud_transactions['newbalanceOrig'].max()\n",
    "\n",
    "# Print the instance that has the maximum value of newbalanceOrig\n",
    "max_newbalanceOrig_instance = fraud_transactions[fraud_transactions['newbalanceOrig'] == max_newbalanceOrig]\n",
    "\n",
    "print(\"The instance with the maximum value of newbalanceOrig for instances where isFraud = 1:\")\n",
    "print(max_newbalanceOrig_instance)"
   ]
  },
  {
   "cell_type": "markdown",
   "metadata": {},
   "source": [
    "The other type of fraud observed is that the desired amount is getting deducted from the customer account but it is not credited in recipient account."
   ]
  },
  {
   "cell_type": "markdown",
   "metadata": {},
   "source": [
    "#### Excluding 'nameOrig' and 'nameDest' from the Dataframe\n",
    "REASON:\n",
    "- There is a huge gap between the the fraud transaction and Non-fraud transaction, therefore there is a probability that the model will become biased for a particular 'nameOrig' and 'nameDest' and might fail during testing.\n",
    "- All the pair of transactions are unique in nature, so it will not help us in tracing any pattern between the customer and the recipient.\n",
    "- Data privacy is one of the concern. To ensure the compliance with regulations such as GDPR.\n",
    "- It is the amount of transaction that decides whether the fraud has taken place or not."
   ]
  },
  {
   "cell_type": "code",
   "execution_count": 4,
   "metadata": {},
   "outputs": [],
   "source": [
    "\n",
    "\n",
    "# Drop the 'nameOrig' and 'nameDest' columns\n",
    "df= df.drop(['nameOrig', 'nameDest'], axis=1)\n"
   ]
  },
  {
   "cell_type": "code",
   "execution_count": 77,
   "metadata": {},
   "outputs": [
    {
     "data": {
      "text/html": [
       "<div>\n",
       "<style scoped>\n",
       "    .dataframe tbody tr th:only-of-type {\n",
       "        vertical-align: middle;\n",
       "    }\n",
       "\n",
       "    .dataframe tbody tr th {\n",
       "        vertical-align: top;\n",
       "    }\n",
       "\n",
       "    .dataframe thead th {\n",
       "        text-align: right;\n",
       "    }\n",
       "</style>\n",
       "<table border=\"1\" class=\"dataframe\">\n",
       "  <thead>\n",
       "    <tr style=\"text-align: right;\">\n",
       "      <th></th>\n",
       "      <th>type</th>\n",
       "      <th>amount</th>\n",
       "      <th>oldbalanceOrg</th>\n",
       "      <th>newbalanceOrig</th>\n",
       "      <th>oldbalanceDest</th>\n",
       "      <th>newbalanceDest</th>\n",
       "      <th>isFraud</th>\n",
       "      <th>isFlaggedFraud</th>\n",
       "    </tr>\n",
       "  </thead>\n",
       "  <tbody>\n",
       "    <tr>\n",
       "      <th>2</th>\n",
       "      <td>TRANSFER</td>\n",
       "      <td>181.00</td>\n",
       "      <td>181.0</td>\n",
       "      <td>0.0</td>\n",
       "      <td>0.0</td>\n",
       "      <td>0.00</td>\n",
       "      <td>1</td>\n",
       "      <td>0</td>\n",
       "    </tr>\n",
       "    <tr>\n",
       "      <th>3</th>\n",
       "      <td>CASH_OUT</td>\n",
       "      <td>181.00</td>\n",
       "      <td>181.0</td>\n",
       "      <td>0.0</td>\n",
       "      <td>21182.0</td>\n",
       "      <td>0.00</td>\n",
       "      <td>1</td>\n",
       "      <td>0</td>\n",
       "    </tr>\n",
       "    <tr>\n",
       "      <th>15</th>\n",
       "      <td>CASH_OUT</td>\n",
       "      <td>229133.94</td>\n",
       "      <td>15325.0</td>\n",
       "      <td>0.0</td>\n",
       "      <td>5083.0</td>\n",
       "      <td>51513.44</td>\n",
       "      <td>0</td>\n",
       "      <td>0</td>\n",
       "    </tr>\n",
       "    <tr>\n",
       "      <th>19</th>\n",
       "      <td>TRANSFER</td>\n",
       "      <td>215310.30</td>\n",
       "      <td>705.0</td>\n",
       "      <td>0.0</td>\n",
       "      <td>22425.0</td>\n",
       "      <td>0.00</td>\n",
       "      <td>0</td>\n",
       "      <td>0</td>\n",
       "    </tr>\n",
       "    <tr>\n",
       "      <th>24</th>\n",
       "      <td>TRANSFER</td>\n",
       "      <td>311685.89</td>\n",
       "      <td>10835.0</td>\n",
       "      <td>0.0</td>\n",
       "      <td>6267.0</td>\n",
       "      <td>2719172.89</td>\n",
       "      <td>0</td>\n",
       "      <td>0</td>\n",
       "    </tr>\n",
       "  </tbody>\n",
       "</table>\n",
       "</div>"
      ],
      "text/plain": [
       "        type     amount  oldbalanceOrg  newbalanceOrig  oldbalanceDest  \\\n",
       "2   TRANSFER     181.00          181.0             0.0             0.0   \n",
       "3   CASH_OUT     181.00          181.0             0.0         21182.0   \n",
       "15  CASH_OUT  229133.94        15325.0             0.0          5083.0   \n",
       "19  TRANSFER  215310.30          705.0             0.0         22425.0   \n",
       "24  TRANSFER  311685.89        10835.0             0.0          6267.0   \n",
       "\n",
       "    newbalanceDest  isFraud  isFlaggedFraud  \n",
       "2             0.00        1               0  \n",
       "3             0.00        1               0  \n",
       "15        51513.44        0               0  \n",
       "19            0.00        0               0  \n",
       "24      2719172.89        0               0  "
      ]
     },
     "execution_count": 77,
     "metadata": {},
     "output_type": "execute_result"
    }
   ],
   "source": [
    "df.head()"
   ]
  },
  {
   "cell_type": "code",
   "execution_count": 78,
   "metadata": {},
   "outputs": [
    {
     "data": {
      "text/plain": [
       "(2770409, 8)"
      ]
     },
     "execution_count": 78,
     "metadata": {},
     "output_type": "execute_result"
    }
   ],
   "source": [
    "df.shape"
   ]
  },
  {
   "cell_type": "code",
   "execution_count": 79,
   "metadata": {},
   "outputs": [
    {
     "name": "stdout",
     "output_type": "stream",
     "text": [
      "<class 'pandas.core.frame.DataFrame'>\n",
      "Index: 2770409 entries, 2 to 6362619\n",
      "Data columns (total 8 columns):\n",
      " #   Column          Dtype  \n",
      "---  ------          -----  \n",
      " 0   type            object \n",
      " 1   amount          float64\n",
      " 2   oldbalanceOrg   float64\n",
      " 3   newbalanceOrig  float64\n",
      " 4   oldbalanceDest  float64\n",
      " 5   newbalanceDest  float64\n",
      " 6   isFraud         int64  \n",
      " 7   isFlaggedFraud  int64  \n",
      "dtypes: float64(5), int64(2), object(1)\n",
      "memory usage: 190.2+ MB\n"
     ]
    }
   ],
   "source": [
    "df.info()"
   ]
  },
  {
   "cell_type": "markdown",
   "metadata": {},
   "source": [
    "### Preparing X and Y variable.\n",
    "Aim: Is to detect whether the given transaction is fraud transaction or not.\n",
    "Therefore, our target label will be 'isFraud'\n",
    "\n"
   ]
  },
  {
   "cell_type": "code",
   "execution_count": 5,
   "metadata": {},
   "outputs": [],
   "source": [
    "X = df.drop(columns=['isFraud'],axis=1)"
   ]
  },
  {
   "cell_type": "code",
   "execution_count": 82,
   "metadata": {},
   "outputs": [
    {
     "data": {
      "text/html": [
       "<div>\n",
       "<style scoped>\n",
       "    .dataframe tbody tr th:only-of-type {\n",
       "        vertical-align: middle;\n",
       "    }\n",
       "\n",
       "    .dataframe tbody tr th {\n",
       "        vertical-align: top;\n",
       "    }\n",
       "\n",
       "    .dataframe thead th {\n",
       "        text-align: right;\n",
       "    }\n",
       "</style>\n",
       "<table border=\"1\" class=\"dataframe\">\n",
       "  <thead>\n",
       "    <tr style=\"text-align: right;\">\n",
       "      <th></th>\n",
       "      <th>type</th>\n",
       "      <th>amount</th>\n",
       "      <th>oldbalanceOrg</th>\n",
       "      <th>newbalanceOrig</th>\n",
       "      <th>oldbalanceDest</th>\n",
       "      <th>newbalanceDest</th>\n",
       "      <th>isFlaggedFraud</th>\n",
       "    </tr>\n",
       "  </thead>\n",
       "  <tbody>\n",
       "    <tr>\n",
       "      <th>2</th>\n",
       "      <td>TRANSFER</td>\n",
       "      <td>181.00</td>\n",
       "      <td>181.00</td>\n",
       "      <td>0.00</td>\n",
       "      <td>0.00</td>\n",
       "      <td>0.00</td>\n",
       "      <td>0</td>\n",
       "    </tr>\n",
       "    <tr>\n",
       "      <th>3</th>\n",
       "      <td>CASH_OUT</td>\n",
       "      <td>181.00</td>\n",
       "      <td>181.00</td>\n",
       "      <td>0.00</td>\n",
       "      <td>21182.00</td>\n",
       "      <td>0.00</td>\n",
       "      <td>0</td>\n",
       "    </tr>\n",
       "    <tr>\n",
       "      <th>15</th>\n",
       "      <td>CASH_OUT</td>\n",
       "      <td>229133.94</td>\n",
       "      <td>15325.00</td>\n",
       "      <td>0.00</td>\n",
       "      <td>5083.00</td>\n",
       "      <td>51513.44</td>\n",
       "      <td>0</td>\n",
       "    </tr>\n",
       "    <tr>\n",
       "      <th>19</th>\n",
       "      <td>TRANSFER</td>\n",
       "      <td>215310.30</td>\n",
       "      <td>705.00</td>\n",
       "      <td>0.00</td>\n",
       "      <td>22425.00</td>\n",
       "      <td>0.00</td>\n",
       "      <td>0</td>\n",
       "    </tr>\n",
       "    <tr>\n",
       "      <th>24</th>\n",
       "      <td>TRANSFER</td>\n",
       "      <td>311685.89</td>\n",
       "      <td>10835.00</td>\n",
       "      <td>0.00</td>\n",
       "      <td>6267.00</td>\n",
       "      <td>2719172.89</td>\n",
       "      <td>0</td>\n",
       "    </tr>\n",
       "    <tr>\n",
       "      <th>42</th>\n",
       "      <td>CASH_OUT</td>\n",
       "      <td>110414.71</td>\n",
       "      <td>26845.41</td>\n",
       "      <td>0.00</td>\n",
       "      <td>288800.00</td>\n",
       "      <td>2415.16</td>\n",
       "      <td>0</td>\n",
       "    </tr>\n",
       "    <tr>\n",
       "      <th>47</th>\n",
       "      <td>CASH_OUT</td>\n",
       "      <td>56953.90</td>\n",
       "      <td>1942.02</td>\n",
       "      <td>0.00</td>\n",
       "      <td>70253.00</td>\n",
       "      <td>64106.18</td>\n",
       "      <td>0</td>\n",
       "    </tr>\n",
       "    <tr>\n",
       "      <th>48</th>\n",
       "      <td>CASH_OUT</td>\n",
       "      <td>5346.89</td>\n",
       "      <td>0.00</td>\n",
       "      <td>0.00</td>\n",
       "      <td>652637.00</td>\n",
       "      <td>6453430.91</td>\n",
       "      <td>0</td>\n",
       "    </tr>\n",
       "    <tr>\n",
       "      <th>51</th>\n",
       "      <td>CASH_OUT</td>\n",
       "      <td>23261.30</td>\n",
       "      <td>20411.53</td>\n",
       "      <td>0.00</td>\n",
       "      <td>25742.00</td>\n",
       "      <td>0.00</td>\n",
       "      <td>0</td>\n",
       "    </tr>\n",
       "    <tr>\n",
       "      <th>58</th>\n",
       "      <td>TRANSFER</td>\n",
       "      <td>62610.80</td>\n",
       "      <td>79114.00</td>\n",
       "      <td>16503.20</td>\n",
       "      <td>517.00</td>\n",
       "      <td>8383.29</td>\n",
       "      <td>0</td>\n",
       "    </tr>\n",
       "    <tr>\n",
       "      <th>60</th>\n",
       "      <td>CASH_OUT</td>\n",
       "      <td>82940.31</td>\n",
       "      <td>3017.87</td>\n",
       "      <td>0.00</td>\n",
       "      <td>132372.00</td>\n",
       "      <td>49864.36</td>\n",
       "      <td>0</td>\n",
       "    </tr>\n",
       "    <tr>\n",
       "      <th>70</th>\n",
       "      <td>CASH_OUT</td>\n",
       "      <td>47458.86</td>\n",
       "      <td>209534.84</td>\n",
       "      <td>162075.98</td>\n",
       "      <td>52120.00</td>\n",
       "      <td>0.00</td>\n",
       "      <td>0</td>\n",
       "    </tr>\n",
       "    <tr>\n",
       "      <th>71</th>\n",
       "      <td>CASH_OUT</td>\n",
       "      <td>136872.92</td>\n",
       "      <td>162075.98</td>\n",
       "      <td>25203.05</td>\n",
       "      <td>217806.00</td>\n",
       "      <td>0.00</td>\n",
       "      <td>0</td>\n",
       "    </tr>\n",
       "    <tr>\n",
       "      <th>72</th>\n",
       "      <td>CASH_OUT</td>\n",
       "      <td>94253.33</td>\n",
       "      <td>25203.05</td>\n",
       "      <td>0.00</td>\n",
       "      <td>99773.00</td>\n",
       "      <td>965870.05</td>\n",
       "      <td>0</td>\n",
       "    </tr>\n",
       "    <tr>\n",
       "      <th>78</th>\n",
       "      <td>TRANSFER</td>\n",
       "      <td>42712.39</td>\n",
       "      <td>10363.39</td>\n",
       "      <td>0.00</td>\n",
       "      <td>57901.66</td>\n",
       "      <td>24044.18</td>\n",
       "      <td>0</td>\n",
       "    </tr>\n",
       "  </tbody>\n",
       "</table>\n",
       "</div>"
      ],
      "text/plain": [
       "        type     amount  oldbalanceOrg  newbalanceOrig  oldbalanceDest  \\\n",
       "2   TRANSFER     181.00         181.00            0.00            0.00   \n",
       "3   CASH_OUT     181.00         181.00            0.00        21182.00   \n",
       "15  CASH_OUT  229133.94       15325.00            0.00         5083.00   \n",
       "19  TRANSFER  215310.30         705.00            0.00        22425.00   \n",
       "24  TRANSFER  311685.89       10835.00            0.00         6267.00   \n",
       "42  CASH_OUT  110414.71       26845.41            0.00       288800.00   \n",
       "47  CASH_OUT   56953.90        1942.02            0.00        70253.00   \n",
       "48  CASH_OUT    5346.89           0.00            0.00       652637.00   \n",
       "51  CASH_OUT   23261.30       20411.53            0.00        25742.00   \n",
       "58  TRANSFER   62610.80       79114.00        16503.20          517.00   \n",
       "60  CASH_OUT   82940.31        3017.87            0.00       132372.00   \n",
       "70  CASH_OUT   47458.86      209534.84       162075.98        52120.00   \n",
       "71  CASH_OUT  136872.92      162075.98        25203.05       217806.00   \n",
       "72  CASH_OUT   94253.33       25203.05            0.00        99773.00   \n",
       "78  TRANSFER   42712.39       10363.39            0.00        57901.66   \n",
       "\n",
       "    newbalanceDest  isFlaggedFraud  \n",
       "2             0.00               0  \n",
       "3             0.00               0  \n",
       "15        51513.44               0  \n",
       "19            0.00               0  \n",
       "24      2719172.89               0  \n",
       "42         2415.16               0  \n",
       "47        64106.18               0  \n",
       "48      6453430.91               0  \n",
       "51            0.00               0  \n",
       "58         8383.29               0  \n",
       "60        49864.36               0  \n",
       "70            0.00               0  \n",
       "71            0.00               0  \n",
       "72       965870.05               0  \n",
       "78        24044.18               0  "
      ]
     },
     "execution_count": 82,
     "metadata": {},
     "output_type": "execute_result"
    }
   ],
   "source": [
    "X.head(15)"
   ]
  },
  {
   "cell_type": "code",
   "execution_count": 6,
   "metadata": {},
   "outputs": [],
   "source": [
    "y = df['isFraud']"
   ]
  },
  {
   "cell_type": "code",
   "execution_count": 84,
   "metadata": {},
   "outputs": [
    {
     "data": {
      "text/plain": [
       "2     1\n",
       "3     1\n",
       "15    0\n",
       "19    0\n",
       "24    0\n",
       "Name: isFraud, dtype: int64"
      ]
     },
     "execution_count": 84,
     "metadata": {},
     "output_type": "execute_result"
    }
   ],
   "source": [
    "y.head()"
   ]
  },
  {
   "cell_type": "code",
   "execution_count": 7,
   "metadata": {},
   "outputs": [
    {
     "name": "stdout",
     "output_type": "stream",
     "text": [
      "Index(['amount', 'oldbalanceOrg', 'newbalanceOrig', 'oldbalanceDest',\n",
      "       'newbalanceDest', 'isFlaggedFraud'],\n",
      "      dtype='object')\n",
      "Index(['type'], dtype='object')\n"
     ]
    }
   ],
   "source": [
    "#Create Column Transformer \n",
    "num_features = X.select_dtypes(exclude=\"object\").columns\n",
    "cat_features = X.select_dtypes(include=\"object\").columns\n",
    "\n",
    "print(num_features)\n",
    "print(cat_features)"
   ]
  },
  {
   "cell_type": "code",
   "execution_count": 8,
   "metadata": {},
   "outputs": [],
   "source": [
    "from sklearn.preprocessing import OneHotEncoder,StandardScaler\n",
    "from sklearn.compose import ColumnTransformer\n",
    "numeric_transformer = StandardScaler()\n",
    "oh_transformer = OneHotEncoder()\n",
    "preprocessor= ColumnTransformer(\n",
    "    [\n",
    "        (\"OneHotEncoder\", oh_transformer, cat_features),\n",
    "         (\"StandardScaler\", numeric_transformer, num_features),        \n",
    "    ]\n",
    ")"
   ]
  },
  {
   "cell_type": "code",
   "execution_count": 9,
   "metadata": {},
   "outputs": [],
   "source": [
    "X = preprocessor.fit_transform(X)"
   ]
  },
  {
   "cell_type": "code",
   "execution_count": 10,
   "metadata": {},
   "outputs": [
    {
     "data": {
      "text/plain": [
       "(2770409, 8)"
      ]
     },
     "execution_count": 10,
     "metadata": {},
     "output_type": "execute_result"
    }
   ],
   "source": [
    "X.shape"
   ]
  },
  {
   "cell_type": "code",
   "execution_count": 10,
   "metadata": {},
   "outputs": [
    {
     "name": "stdout",
     "output_type": "stream",
     "text": [
      "X_train shape: (1939286, 8)\n",
      "X_val shape: (831123, 8)\n",
      "y_train shape: (1939286,)\n",
      "y_val shape: (831123,)\n"
     ]
    }
   ],
   "source": [
    "from sklearn.model_selection import train_test_split\n",
    "\n",
    "# Second split: Train and Validation\n",
    "X_train, X_val, y_train, y_val = train_test_split(X, y, test_size=0.3, random_state=42) # 0.25 * 0.8 = 0.2\n",
    "\n",
    "# Print shapes to verify the splits\n",
    "print(f\"X_train shape: {X_train.shape}\")\n",
    "print(f\"X_val shape: {X_val.shape}\")\n",
    "\n",
    "print(f\"y_train shape: {y_train.shape}\")\n",
    "print(f\"y_val shape: {y_val.shape}\")\n"
   ]
  },
  {
   "cell_type": "code",
   "execution_count": 11,
   "metadata": {},
   "outputs": [],
   "source": [
    "#Testing different machine learning model for classification\n",
    "\n",
    "from sklearn.linear_model import LogisticRegression\n",
    "from sklearn.tree import DecisionTreeClassifier\n",
    "from sklearn.ensemble import RandomForestClassifier, GradientBoostingClassifier, AdaBoostClassifier\n",
    "from sklearn.svm import SVC\n",
    "from sklearn.neighbors import KNeighborsClassifier\n",
    "from sklearn.naive_bayes import GaussianNB\n",
    "\n",
    "# Initialize models\n",
    "models = {\n",
    "    \"Logistic Regression\": LogisticRegression(),\n",
    "    \"Decision Tree\": DecisionTreeClassifier(),\n",
    "    \"Gradient Boosting\": GradientBoostingClassifier(),\n",
    "    \"AdaBoost\": AdaBoostClassifier(),\n",
    "}\n",
    "\n",
    "\n"
   ]
  },
  {
   "cell_type": "code",
   "execution_count": 98,
   "metadata": {},
   "outputs": [
    {
     "name": "stdout",
     "output_type": "stream",
     "text": [
      "Model: Logistic Regression\n",
      "Accuracy: 0.9981579140512294\n",
      "              precision    recall  f1-score   support\n",
      "\n",
      "           0       1.00      1.00      1.00    828627\n",
      "           1       0.88      0.45      0.59      2496\n",
      "\n",
      "    accuracy                           1.00    831123\n",
      "   macro avg       0.94      0.72      0.80    831123\n",
      "weighted avg       1.00      1.00      1.00    831123\n",
      "\n",
      "------------------------------------------------------------\n",
      "Model: Decision Tree\n",
      "Accuracy: 0.9993382447604024\n",
      "              precision    recall  f1-score   support\n",
      "\n",
      "           0       1.00      1.00      1.00    828627\n",
      "           1       0.90      0.88      0.89      2496\n",
      "\n",
      "    accuracy                           1.00    831123\n",
      "   macro avg       0.95      0.94      0.94    831123\n",
      "weighted avg       1.00      1.00      1.00    831123\n",
      "\n",
      "------------------------------------------------------------\n",
      "Model: Gradient Boosting\n",
      "Accuracy: 0.9975888045451756\n",
      "              precision    recall  f1-score   support\n",
      "\n",
      "           0       1.00      1.00      1.00    828627\n",
      "           1       0.96      0.21      0.34      2496\n",
      "\n",
      "    accuracy                           1.00    831123\n",
      "   macro avg       0.98      0.60      0.67    831123\n",
      "weighted avg       1.00      1.00      1.00    831123\n",
      "\n",
      "------------------------------------------------------------\n",
      "Model: AdaBoost\n",
      "Accuracy: 0.9984659310354785\n",
      "              precision    recall  f1-score   support\n",
      "\n",
      "           0       1.00      1.00      1.00    828627\n",
      "           1       0.93      0.53      0.67      2496\n",
      "\n",
      "    accuracy                           1.00    831123\n",
      "   macro avg       0.96      0.76      0.84    831123\n",
      "weighted avg       1.00      1.00      1.00    831123\n",
      "\n",
      "------------------------------------------------------------\n"
     ]
    }
   ],
   "source": [
    "from sklearn.metrics import classification_report, accuracy_score\n",
    "\n",
    "# Train and evaluate models\n",
    "for name, model in models.items():\n",
    "    model.fit(X_train, y_train)\n",
    "    y_pred = model.predict(X_val)\n",
    "    print(f\"Model: {name}\")\n",
    "    print(f\"Accuracy: {accuracy_score(y_val, y_pred)}\")\n",
    "    print(classification_report(y_val, y_pred))\n",
    "    print(\"-\" * 60)"
   ]
  },
  {
   "cell_type": "code",
   "execution_count": 12,
   "metadata": {},
   "outputs": [],
   "source": [
    "models = {   \n",
    "    \"k-Nearest Neighbors\": KNeighborsClassifier(),\n",
    "    \"Naive Bayes\": GaussianNB()\n",
    "}"
   ]
  },
  {
   "cell_type": "code",
   "execution_count": 14,
   "metadata": {},
   "outputs": [
    {
     "name": "stdout",
     "output_type": "stream",
     "text": [
      "Model: k-Nearest Neighbors\n",
      "Accuracy: 0.9991168575529735\n",
      "              precision    recall  f1-score   support\n",
      "\n",
      "           0       1.00      1.00      1.00    828627\n",
      "           1       0.92      0.78      0.84      2496\n",
      "\n",
      "    accuracy                           1.00    831123\n",
      "   macro avg       0.96      0.89      0.92    831123\n",
      "weighted avg       1.00      1.00      1.00    831123\n",
      "\n",
      "------------------------------------------------------------\n",
      "Model: Naive Bayes\n",
      "Accuracy: 0.9913899627371641\n",
      "              precision    recall  f1-score   support\n",
      "\n",
      "           0       1.00      0.99      1.00    828627\n",
      "           1       0.13      0.32      0.18      2496\n",
      "\n",
      "    accuracy                           0.99    831123\n",
      "   macro avg       0.56      0.66      0.59    831123\n",
      "weighted avg       1.00      0.99      0.99    831123\n",
      "\n",
      "------------------------------------------------------------\n"
     ]
    }
   ],
   "source": [
    "from sklearn.metrics import classification_report, accuracy_score\n",
    "\n",
    "# Train and evaluate models\n",
    "for name, model in models.items():\n",
    "    model.fit(X_train, y_train)\n",
    "    y_pred = model.predict(X_val)\n",
    "    print(f\"Model: {name}\")\n",
    "    print(f\"Accuracy: {accuracy_score(y_val, y_pred)}\")\n",
    "    print(classification_report(y_val, y_pred))\n",
    "    print(\"-\" * 60)"
   ]
  },
  {
   "cell_type": "markdown",
   "metadata": {},
   "source": [
    "## COMPARATIVE ANALYSIS OF DIFFERENT MODELS PERFORMANCE\n",
    "- We can observe that all the models are performing really well on our preprocessed data.\n",
    "- As per the classification report of all the models, we can observe that even though all the models have excellent accuracy, but our concern is with the model that is able to detect fraud transaction, i.e. 'isFraud' should be 1.\n",
    "- All the models are performing extremely well for normal transactions but very very few models are able to detect fraud transactions appropriately.\n",
    "\n",
    "### WHICH IS THE BEST PERFORMING MODEL?\n",
    "For 'isFraud' equal to 0 all the models are working extremely fine. The analysis of good model is done for 'isFraud' equal to 1. \n",
    "Out of all the models, it is Decision tree classifier that is performing extremely well. \n",
    "REASON:\n",
    "- It has comparitively high recall value. It means the model sucessfully detects a large proportion of actual fraud cases.\n",
    "- Even precision is comparitively really good. Which means the model's fraud prediction are mostly accurate.\n",
    "- High F1-score means the model performs well overall in detecting fraud, balancing both the detection rate and the accuracy of fraud predictions."
   ]
  },
  {
   "cell_type": "code",
   "execution_count": 15,
   "metadata": {},
   "outputs": [
    {
     "name": "stdout",
     "output_type": "stream",
     "text": [
      "Accuracy score: 0.9993394479517472\n",
      "              precision    recall  f1-score   support\n",
      "\n",
      "           0       1.00      1.00      1.00    828627\n",
      "           1       0.90      0.87      0.89      2496\n",
      "\n",
      "    accuracy                           1.00    831123\n",
      "   macro avg       0.95      0.94      0.94    831123\n",
      "weighted avg       1.00      1.00      1.00    831123\n",
      "\n"
     ]
    }
   ],
   "source": [
    "from sklearn.metrics import classification_report, accuracy_score\n",
    "dec_classifier = DecisionTreeClassifier()\n",
    "dec_classifier = dec_classifier.fit(X_train, y_train)\n",
    "y_pred = dec_classifier.predict(X_val)\n",
    "print(f\"Accuracy score: {accuracy_score(y_val, y_pred)}\")\n",
    "print(classification_report(y_val, y_pred))\n"
   ]
  },
  {
   "cell_type": "code",
   "execution_count": 29,
   "metadata": {},
   "outputs": [
    {
     "data": {
      "image/png": "[encoded data removed]",
      "text/plain": [
       "<Figure size 800x600 with 1 Axes>"
      ]
     },
     "metadata": {},
     "output_type": "display_data"
    }
   ],
   "source": [
    "from sklearn.metrics import confusion_matrix\n",
    "cm = confusion_matrix(y_val, y_pred)\n",
    "\n",
    "# Plot confusion matrix\n",
    "plt.figure(figsize=(8, 6))\n",
    "sns.heatmap(cm, annot=True, cmap='Blues', fmt='g', cbar=False)\n",
    "plt.title('Confusion Matrix')\n",
    "plt.xlabel('Predicted')\n",
    "plt.ylabel('Actual')\n",
    "plt.show()"
   ]
  },
  {
   "cell_type": "code",
   "execution_count": 31,
   "metadata": {},
   "outputs": [
    {
     "data": {
      "image/png": "[encoded data removed]",
      "text/plain": [
       "<Figure size 800x600 with 1 Axes>"
      ]
     },
     "metadata": {},
     "output_type": "display_data"
    }
   ],
   "source": [
    "cm = confusion_matrix(y_val, y_pred)\n",
    "# Calculate percentages\n",
    "cm_percent = cm.astype('float') / cm.sum(axis=1)[:, np.newaxis] * 100\n",
    "\n",
    "# Plot confusion matrix\n",
    "plt.figure(figsize=(8, 6))\n",
    "sns.heatmap(cm_percent, annot=True, cmap='Blues', fmt='g', cbar=False)\n",
    "plt.title('Confusion Matrix (in %)')\n",
    "plt.xlabel('Predicted')\n",
    "plt.ylabel('Actual')\n",
    "plt.show()"
   ]
  },
  {
   "cell_type": "markdown",
   "metadata": {},
   "source": [
    "### Applying Explainability to our model"
   ]
  },
  {
   "cell_type": "code",
   "execution_count": 17,
   "metadata": {},
   "outputs": [],
   "source": [
    "import shap\n",
    "\n",
    "#Initializing the SHAP explainer\n",
    "explainer = shap.TreeExplainer(dec_classifier)\n",
    "# Compute SHAP values for the validation set\n",
    "shap_values = explainer.shap_values(X_val)"
   ]
  },
  {
   "cell_type": "code",
   "execution_count": 24,
   "metadata": {},
   "outputs": [
    {
     "name": "stdout",
     "output_type": "stream",
     "text": [
      "Shape of X_val: (831123, 8)\n",
      "(831123, 8, 2)\n",
      "(831123, 8)\n"
     ]
    }
   ],
   "source": [
    "# Check the shape of shap_values and X_val\n",
    "print(\"Shape of X_val:\", X_val.shape)\n",
    "#print(\"Shape of shap_values:\", [sv.shape for sv in shap_values])\n",
    "print(shap_values.shape)\n",
    "\n",
    "# Reshape the SHAP values to (831123, 8)\n",
    "shap_values_reshaped = shap_values[:, :, 1]  \n",
    "# Use shap_values[:, :, 1] for class 1 (fraud)\n",
    "print(shap_values_reshaped.shape)"
   ]
  },
  {
   "cell_type": "code",
   "execution_count": 40,
   "metadata": {},
   "outputs": [
    {
     "name": "stdout",
     "output_type": "stream",
     "text": [
      "Final Feature Names:\n",
      "['type_CASH_OUT', 'type_TRANSFER', 'amount', 'oldbalanceOrg', 'newbalanceOrig', 'oldbalanceDest', 'newbalanceDest', 'isFlaggedFraud']\n"
     ]
    }
   ],
   "source": [
    "# Get feature names after transformation\n",
    "# For categorical features (one-hot encoded)\n",
    "oh_feature_names = preprocessor.named_transformers_['OneHotEncoder'].get_feature_names_out(cat_features)\n",
    "\n",
    "# For numeric features (unchanged by StandardScaler)\n",
    "numeric_feature_names = num_features\n",
    "\n",
    "# Concatenate all feature names\n",
    "features_name = list(oh_feature_names) + list(numeric_feature_names)\n",
    "\n",
    "print(\"Final Feature Names:\")\n",
    "print(features_name)"
   ]
  },
  {
   "cell_type": "code",
   "execution_count": 43,
   "metadata": {},
   "outputs": [
    {
     "data": {
      "image/png": "[encoded data removed]",
      "text/plain": [
       "<Figure size 800x470 with 2 Axes>"
      ]
     },
     "metadata": {},
     "output_type": "display_data"
    }
   ],
   "source": [
    "# Plot the SHAP summary plot with feature names\n",
    "shap.summary_plot(shap_values_reshaped, X_val, feature_names=features_name)"
   ]
  },
  {
   "cell_type": "markdown",
   "metadata": {},
   "source": [
    "### The Explaination for the following Summary Plot from SHAP for validation data set\n",
    "\n",
    "#### oldbalanceOrg (Initial Balance of the Origin Account):\n",
    "- High values (red) generally have a negative SHAP value, indicating they decrease the likelihood of fraud.\n",
    "- Low values (blue) generally have a positive SHAP value, indicating they increase the likelihood of fraud.\n",
    "\n",
    "##### amount (Transaction Amount):\n",
    "- High values (red) generally have a positive SHAP value, strongly increasing the likelihood of fraud.\n",
    "- Low values (blue) generally have a negative SHAP value, decreasing the likelihood of fraud.\n",
    "\n",
    "##### newbalanceOrig (New Balance of the Origin Account):\n",
    "- High values (red) generally have a negative SHAP value, decreasing the likelihood of fraud.\n",
    "- Low values (blue) generally have a positive SHAP value, increasing the likelihood of fraud.\n",
    "\n",
    "##### type_CASH_OUT (Transaction Type is CASH-OUT):\n",
    "The impact is mixed but generally, high values (indicating a CASH-OUT type) tend to increase the likelihood of fraud.\n",
    "\n",
    "##### newbalanceDest (New Balance of the Destination Account):\n",
    "The effect is more dispersed, with both high and low values showing a spread of SHAP values, indicating varying impacts on the likelihood of fraud.\n",
    "\n",
    "##### oldbalanceDest (Initial Balance of the Destination Account):\n",
    "Similar to newbalanceDest, the SHAP values are dispersed, showing varying impacts.\n",
    "\n",
    "##### type_TRANSFER (Transaction Type is TRANSFER):\n",
    "- High values (indicating a TRANSFER type) generally have positive SHAP values, increasing the likelihood of fraud.\n",
    "- Low values generally have negative SHAP values, decreasing the likelihood of fraud.\n",
    "\n",
    "##### isFlaggedFraud (Transaction Flagged as Fraud):\n",
    "- High values (indicating the transaction is flagged as fraud) have strong positive SHAP values, significantly increasing the likelihood of fraud.\n",
    "- Low values have negative SHAP values, decreasing the likelihood of fraud."
   ]
  },
  {
   "cell_type": "markdown",
   "metadata": {},
   "source": [
    "#### Summary of SHAP Summary plot\n",
    "- High Transaction amount are strong indicator of fraud transaction.\n",
    "- the transaction for whom isFlaggedFraud value is set to 1, has high likelyhood to be detected as fraud transaction.\n",
    "- Low new balance of the origin also increases the likelihood of fraud. "
   ]
  },
  {
   "cell_type": "code",
   "execution_count": 45,
   "metadata": {},
   "outputs": [
    {
     "data": {
      "image/png": "[encoded data removed]",
      "text/plain": [
       "<Figure size 1000x600 with 1 Axes>"
      ]
     },
     "metadata": {},
     "output_type": "display_data"
    }
   ],
   "source": [
    "# Calculate feature importances\n",
    "feature_importances = dec_classifier.feature_importances_\n",
    "\n",
    "# Combine feature names and importances, then sort by importance in descending order\n",
    "feature_importances_sorted = sorted(zip(feature_importances, features_name), reverse=True)\n",
    "\n",
    "# Extract sorted importances and names\n",
    "importances_sorted = [importance for importance, _ in feature_importances_sorted]\n",
    "names_sorted = [name for _, name in feature_importances_sorted]\n",
    "\n",
    "# Plot normal feature importance histogram\n",
    "plt.figure(figsize=(10, 6))\n",
    "sns.barplot(x=importances_sorted, y=names_sorted, palette='viridis')\n",
    "plt.title('Feature Importance')\n",
    "plt.xlabel('Importance')\n",
    "plt.ylabel('Feature')\n",
    "plt.show()"
   ]
  },
  {
   "cell_type": "markdown",
   "metadata": {},
   "source": [
    "#### The analysis of above feature importance graph\n",
    "- oldBalanceOrg and amount are the two most crucial features for predicting fraud tranaction.\n",
    "- it means that generally, the original balance of the customer plays a crucial role in detecting whether the fraud transaction might occur or not.\n",
    "- The amount also plays an important role. \n",
    "- One more observation is that isFlaggedFraud has given the least importance. Which could be because of the fact that flagged transaction are already identified as potentially fraud transaction. So it does not contribute much in altering the output."
   ]
  },
  {
   "cell_type": "markdown",
   "metadata": {},
   "source": [
    "### CONCLUSION:\n",
    "yes, the factors involved in fraud prediction definitely make sense.\n",
    "- Large transaction amount are genrally flagged as suspecious transaction and may attempt to transfer significant amount in a single transaction.\n",
    "- Fraudulent activities often involve cashing out stolen funds quickly. Hence, CASH-OUT transactions are critical in identifying potential fraud.\n",
    "- If suddenly there is an crediting in recipient account with a huge amount or comparitively huge amount then this might increase the probability of fraud transaction to occur.\n",
    "\n",
    "In similar manner, every feature has an appropriate significance in detecting fraud transaction."
   ]
  },
  {
   "cell_type": "markdown",
   "metadata": {},
   "source": [
    "#### What Kind of Prevention Should Be Adopted While the Company Updates Its Infrastructure?\n",
    "1. Multi-factor Authentication: Company should make it compulsion on the customer to practice MFA for initiating high-value transactions.\n",
    "2. With the help of Machine Learning model periodic analysis of the transaction should be practiced by the company. This helps the company to detect the pattern of fraud Transaction. For example, it was during EDA (Exploratory Data Analysis) Step that we were able to figure that in only two type of payment method the fraud has been detected.\n",
    "3. Regular Audits and Penetration Testing - This will help fixing the vulnerabilities in the system."
   ]
  },
  {
   "cell_type": "markdown",
   "metadata": {},
   "source": [
    "#### Assuming These Actions Have Been Implemented, How Would You Determine If They Work?\n",
    "1. User feedback- This is one of the most important tool to analyse the improvement in services and security.\n",
    "2. There are several metrics available in Machine Learning and Data Science tools that will help you to understand comparative improvement or degradation in the model performance.\n",
    "3. Instead of bringing new implementation into use for all the user, we should first test it on the small batch of user and check whether the solution is in favour of the public or not.\n",
    "4. Use the insights gained from monitoring and analysis to continuously improve the fraud detection and prevention system."
   ]
  }
 ],
 "metadata": {
  "kernelspec": {
   "display_name": "Python 3",
   "language": "python",
   "name": "python3"
  },
  "language_info": {
   "codemirror_mode": {
    "name": "ipython",
    "version": 3
   },
   "file_extension": ".py",
   "mimetype": "text/x-python",
   "name": "python",
   "nbconvert_exporter": "python",
   "pygments_lexer": "ipython3",
   "version": "3.12.3"
  }
 },
 "nbformat": 4,
 "nbformat_minor": 2
}
